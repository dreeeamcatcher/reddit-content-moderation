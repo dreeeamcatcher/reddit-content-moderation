{
 "cells": [
  {
   "cell_type": "code",
   "execution_count": 1,
   "id": "ef006e73",
   "metadata": {},
   "outputs": [],
   "source": [
    "from transformers import AutoTokenizer, AutoModelForSequenceClassification, TrainingArguments, Trainer\n",
    "from datasets import load_dataset\n",
    "\n",
    "import numpy as np\n",
    "import evaluate"
   ]
  },
  {
   "cell_type": "code",
   "execution_count": 2,
   "id": "4532cc5c",
   "metadata": {},
   "outputs": [
    {
     "name": "stderr",
     "output_type": "stream",
     "text": [
      "Some weights of BertForSequenceClassification were not initialized from the model checkpoint at boltuix/bert-lite and are newly initialized: ['bert.pooler.dense.bias', 'bert.pooler.dense.weight', 'classifier.bias', 'classifier.weight']\n",
      "You should probably TRAIN this model on a down-stream task to be able to use it for predictions and inference.\n"
     ]
    }
   ],
   "source": [
    "# Load model directly\n",
    "model_name = \"boltuix/bert-lite\"\n",
    "tokenizer = AutoTokenizer.from_pretrained(model_name)\n",
    "model = AutoModelForSequenceClassification.from_pretrained(model_name)\n",
    "\n",
    "# Load dataset\n",
    "dataset_name = 'ucberkeley-dlab/measuring-hate-speech'\n",
    "dataset = load_dataset(dataset_name, split='train')"
   ]
  },
  {
   "cell_type": "code",
   "execution_count": 3,
   "id": "6c3b68d4",
   "metadata": {},
   "outputs": [
    {
     "data": {
      "text/plain": [
       "(135556, 131)"
      ]
     },
     "execution_count": 3,
     "metadata": {},
     "output_type": "execute_result"
    }
   ],
   "source": [
    "# Check the shape of the dataset\n",
    "dataset.shape"
   ]
  },
  {
   "cell_type": "code",
   "execution_count": 4,
   "id": "58ee5ac7",
   "metadata": {},
   "outputs": [],
   "source": [
    "# Create a custom dataset from existing dataset. \n",
    "# Use 'text' as the input and encode 'hate_speech_score' as the label- if 'hate_speech_score' is > 0.5, it is considered hate speech, so encode it as 1, else 0.\n",
    "# This classification is taken from the dataset's description:\n",
    "# hate_speech_score - continuous hate speech measure, where higher = more hateful and lower = less hateful. > 0.5 is approximately hate speech, < -1 is counter or supportive speech, and -1 to +0.5 is neutral or ambiguous.\n",
    "def encode_labels(example):\n",
    "    example['label'] = 1 if example['hate_speech_score'] > 0.5 else 0\n",
    "    return example\n",
    "\n",
    "encoded_dataset = dataset.map(encode_labels)\n",
    "encoded_dataset = encoded_dataset.remove_columns(['hate_speech_score'])"
   ]
  },
  {
   "cell_type": "code",
   "execution_count": 5,
   "id": "f957ed5f",
   "metadata": {},
   "outputs": [],
   "source": [
    "# Select only subset of the dataset for training and testing as there are too many examples in the dataset.\n",
    "subset = encoded_dataset.train_test_split(test_size=0.2)['test']\n",
    "\n",
    "# Split the dataset into train and test sets\n",
    "train_test_split = subset.train_test_split(test_size=0.2, seed=42)\n",
    "\n",
    "train_dataset = train_test_split['train']\n",
    "test_dataset = train_test_split['test']"
   ]
  },
  {
   "cell_type": "code",
   "execution_count": 6,
   "id": "0c59ce62",
   "metadata": {},
   "outputs": [
    {
     "data": {
      "application/vnd.jupyter.widget-view+json": {
       "model_id": "53402a97b5924c249997db409b609d4d",
       "version_major": 2,
       "version_minor": 0
      },
      "text/plain": [
       "Map:   0%|          | 0/21689 [00:00<?, ? examples/s]"
      ]
     },
     "metadata": {},
     "output_type": "display_data"
    },
    {
     "data": {
      "application/vnd.jupyter.widget-view+json": {
       "model_id": "4a3949daead640b38c3802f09c169a0b",
       "version_major": 2,
       "version_minor": 0
      },
      "text/plain": [
       "Map:   0%|          | 0/5423 [00:00<?, ? examples/s]"
      ]
     },
     "metadata": {},
     "output_type": "display_data"
    }
   ],
   "source": [
    "# Tokenize the dataset\n",
    "def tokenize_function(examples):\n",
    "    return tokenizer(examples['text'])\n",
    "\n",
    "tokenized_train_dataset = train_dataset.map(tokenize_function, batched=True)\n",
    "tokenized_test_dataset = test_dataset.map(tokenize_function, batched=True)\n",
    "\n",
    "# Remove the original text column and set the format for PyTorch\n",
    "tokenized_train_dataset = tokenized_train_dataset.remove_columns(['text'])\n",
    "tokenized_test_dataset = tokenized_test_dataset.remove_columns(['text'])\n",
    "\n",
    "tokenized_train_dataset.set_format('torch')\n",
    "tokenized_test_dataset.set_format('torch')\n",
    "\n",
    "# Rename the label column to 'labels' for compatibility with Trainer\n",
    "tokenized_train_dataset = tokenized_train_dataset.rename_column('label', 'labels')\n",
    "tokenized_test_dataset = tokenized_test_dataset.rename_column('label', 'labels')"
   ]
  },
  {
   "cell_type": "code",
   "execution_count": 7,
   "id": "f8995f39",
   "metadata": {},
   "outputs": [],
   "source": [
    "# Define training arguments\n",
    "training_args = TrainingArguments(\n",
    "    output_dir='./fine-tuned-hatebert',\n",
    "    learning_rate=2e-5,\n",
    "    per_device_train_batch_size=16,\n",
    "    per_device_eval_batch_size=16,\n",
    "    num_train_epochs=5,\n",
    "    weight_decay=0.01,\n",
    "    eval_strategy='epoch',\n",
    "    save_strategy=\"epoch\",\n",
    "    load_best_model_at_end=True,\n",
    "    bf16=False,\n",
    "    fp16=False,\n",
    ")"
   ]
  },
  {
   "cell_type": "code",
   "execution_count": 8,
   "id": "facee1ab",
   "metadata": {},
   "outputs": [],
   "source": [
    "# Define evaluation metrics\n",
    "accuracy_metric = evaluate.load(\"accuracy\")\n",
    "f1_metric = evaluate.load(\"f1\")\n",
    "\n",
    "def compute_metrics(eval_pred):\n",
    "    logits, labels = eval_pred\n",
    "    predictions = np.argmax(logits, axis=1)\n",
    "\n",
    "    acc = accuracy_metric.compute(predictions=predictions, references=labels)\n",
    "    f1 = f1_metric.compute(predictions=predictions, references=labels, average='weighted')\n",
    "    \n",
    "    return {\n",
    "        'accuracy': acc['accuracy'],\n",
    "        'f1': f1['f1'],\n",
    "    }"
   ]
  },
  {
   "cell_type": "code",
   "execution_count": 9,
   "id": "f53ad93c",
   "metadata": {},
   "outputs": [],
   "source": [
    "# Initialize Trainer\n",
    "trainer = Trainer(\n",
    "    model=model,\n",
    "    args=training_args,\n",
    "    train_dataset=tokenized_train_dataset,\n",
    "    eval_dataset=tokenized_test_dataset,\n",
    "    compute_metrics=compute_metrics,\n",
    "    tokenizer=tokenizer,\n",
    ")"
   ]
  },
  {
   "cell_type": "code",
   "execution_count": 10,
   "id": "4ccb3e63",
   "metadata": {},
   "outputs": [
    {
     "data": {
      "application/vnd.jupyter.widget-view+json": {
       "model_id": "de0272e7b9344de59fd49e342ae336d0",
       "version_major": 2,
       "version_minor": 0
      },
      "text/plain": [
       "  0%|          | 0/6780 [00:00<?, ?it/s]"
      ]
     },
     "metadata": {},
     "output_type": "display_data"
    },
    {
     "name": "stdout",
     "output_type": "stream",
     "text": [
      "{'loss': 0.4361, 'grad_norm': 12.445770263671875, 'learning_rate': 1.8525073746312686e-05, 'epoch': 0.37}\n",
      "{'loss': 0.3268, 'grad_norm': 10.969100952148438, 'learning_rate': 1.705014749262537e-05, 'epoch': 0.74}\n"
     ]
    },
    {
     "data": {
      "application/vnd.jupyter.widget-view+json": {
       "model_id": "90622cafaf564eb9b2984a39e5412e07",
       "version_major": 2,
       "version_minor": 0
      },
      "text/plain": [
       "  0%|          | 0/339 [00:00<?, ?it/s]"
      ]
     },
     "metadata": {},
     "output_type": "display_data"
    },
    {
     "name": "stdout",
     "output_type": "stream",
     "text": [
      "{'eval_loss': 0.2892463803291321, 'eval_accuracy': 0.8720265535681357, 'eval_f1': 0.8721663008407808, 'eval_runtime': 8.1246, 'eval_samples_per_second': 667.481, 'eval_steps_per_second': 41.725, 'epoch': 1.0}\n",
      "{'loss': 0.3099, 'grad_norm': 8.052376747131348, 'learning_rate': 1.5575221238938054e-05, 'epoch': 1.11}\n",
      "{'loss': 0.283, 'grad_norm': 9.49429988861084, 'learning_rate': 1.4100294985250738e-05, 'epoch': 1.47}\n",
      "{'loss': 0.2748, 'grad_norm': 7.871114253997803, 'learning_rate': 1.2625368731563424e-05, 'epoch': 1.84}\n"
     ]
    },
    {
     "data": {
      "application/vnd.jupyter.widget-view+json": {
       "model_id": "841a3e52225c416f8e67386deb134310",
       "version_major": 2,
       "version_minor": 0
      },
      "text/plain": [
       "  0%|          | 0/339 [00:00<?, ?it/s]"
      ]
     },
     "metadata": {},
     "output_type": "display_data"
    },
    {
     "name": "stdout",
     "output_type": "stream",
     "text": [
      "{'eval_loss': 0.28845277428627014, 'eval_accuracy': 0.875714549142541, 'eval_f1': 0.8762813506025952, 'eval_runtime': 7.9984, 'eval_samples_per_second': 678.012, 'eval_steps_per_second': 42.384, 'epoch': 2.0}\n",
      "{'loss': 0.2589, 'grad_norm': 14.66384220123291, 'learning_rate': 1.1150442477876106e-05, 'epoch': 2.21}\n",
      "{'loss': 0.2417, 'grad_norm': 10.47105598449707, 'learning_rate': 9.67551622418879e-06, 'epoch': 2.58}\n",
      "{'loss': 0.2402, 'grad_norm': 8.637276649475098, 'learning_rate': 8.200589970501476e-06, 'epoch': 2.95}\n"
     ]
    },
    {
     "data": {
      "application/vnd.jupyter.widget-view+json": {
       "model_id": "d199d8110f554a95aaadd7b9187f8faa",
       "version_major": 2,
       "version_minor": 0
      },
      "text/plain": [
       "  0%|          | 0/339 [00:00<?, ?it/s]"
      ]
     },
     "metadata": {},
     "output_type": "display_data"
    },
    {
     "name": "stdout",
     "output_type": "stream",
     "text": [
      "{'eval_loss': 0.2709518074989319, 'eval_accuracy': 0.8858565369721556, 'eval_f1': 0.8853314634797499, 'eval_runtime': 7.3921, 'eval_samples_per_second': 733.622, 'eval_steps_per_second': 45.86, 'epoch': 3.0}\n",
      "{'loss': 0.2293, 'grad_norm': 6.887058734893799, 'learning_rate': 6.72566371681416e-06, 'epoch': 3.32}\n",
      "{'loss': 0.2097, 'grad_norm': 8.244571685791016, 'learning_rate': 5.250737463126844e-06, 'epoch': 3.69}\n"
     ]
    },
    {
     "data": {
      "application/vnd.jupyter.widget-view+json": {
       "model_id": "e0ef5f39cd9948d983ae5f2e5ef69ed5",
       "version_major": 2,
       "version_minor": 0
      },
      "text/plain": [
       "  0%|          | 0/339 [00:00<?, ?it/s]"
      ]
     },
     "metadata": {},
     "output_type": "display_data"
    },
    {
     "name": "stdout",
     "output_type": "stream",
     "text": [
      "{'eval_loss': 0.2768039107322693, 'eval_accuracy': 0.8886225336529596, 'eval_f1': 0.8881422175098741, 'eval_runtime': 7.3096, 'eval_samples_per_second': 741.898, 'eval_steps_per_second': 46.377, 'epoch': 4.0}\n",
      "{'loss': 0.2238, 'grad_norm': 9.897957801818848, 'learning_rate': 3.775811209439528e-06, 'epoch': 4.06}\n",
      "{'loss': 0.2005, 'grad_norm': 9.679115295410156, 'learning_rate': 2.3008849557522127e-06, 'epoch': 4.42}\n",
      "{'loss': 0.2143, 'grad_norm': 6.320766925811768, 'learning_rate': 8.259587020648968e-07, 'epoch': 4.79}\n"
     ]
    },
    {
     "data": {
      "application/vnd.jupyter.widget-view+json": {
       "model_id": "dfbc12ef8f8248b89d625a69022981d7",
       "version_major": 2,
       "version_minor": 0
      },
      "text/plain": [
       "  0%|          | 0/339 [00:00<?, ?it/s]"
      ]
     },
     "metadata": {},
     "output_type": "display_data"
    },
    {
     "name": "stdout",
     "output_type": "stream",
     "text": [
      "{'eval_loss': 0.28631293773651123, 'eval_accuracy': 0.8864097363083164, 'eval_f1': 0.8861232012918668, 'eval_runtime': 7.4008, 'eval_samples_per_second': 732.761, 'eval_steps_per_second': 45.806, 'epoch': 5.0}\n",
      "{'train_runtime': 462.2818, 'train_samples_per_second': 234.586, 'train_steps_per_second': 14.666, 'train_loss': 0.2626581467710062, 'epoch': 5.0}\n"
     ]
    },
    {
     "data": {
      "text/plain": [
       "TrainOutput(global_step=6780, training_loss=0.2626581467710062, metrics={'train_runtime': 462.2818, 'train_samples_per_second': 234.586, 'train_steps_per_second': 14.666, 'total_flos': 210033065952180.0, 'train_loss': 0.2626581467710062, 'epoch': 5.0})"
      ]
     },
     "execution_count": 10,
     "metadata": {},
     "output_type": "execute_result"
    }
   ],
   "source": [
    "# Train the model\n",
    "trainer.train()"
   ]
  },
  {
   "cell_type": "code",
   "execution_count": null,
   "id": "0b96b3fa",
   "metadata": {},
   "outputs": [
    {
     "data": {
      "text/plain": [
       "('../data/bert-lite/tokenizer_config.json',\n",
       " '../data/bert-lite/special_tokens_map.json',\n",
       " '../data/bert-lite/vocab.txt',\n",
       " '../data/bert-lite/added_tokens.json',\n",
       " '../data/bert-lite/tokenizer.json')"
      ]
     },
     "execution_count": 12,
     "metadata": {},
     "output_type": "execute_result"
    }
   ],
   "source": [
    "# Save the model\n",
    "save_directory = \"../data/bert-lite/\"\n",
    "# trainer.save_model(save_directory, safe_serialization=False)\n",
    "model.save_pretrained(save_directory, safe_serialization=False)\n",
    "tokenizer.save_pretrained(save_directory)"
   ]
  },
  {
   "cell_type": "code",
   "execution_count": null,
   "id": "479f9891",
   "metadata": {},
   "outputs": [],
   "source": []
  }
 ],
 "metadata": {
  "kernelspec": {
   "display_name": "pt2.3",
   "language": "python",
   "name": "python3"
  },
  "language_info": {
   "codemirror_mode": {
    "name": "ipython",
    "version": 3
   },
   "file_extension": ".py",
   "mimetype": "text/x-python",
   "name": "python",
   "nbconvert_exporter": "python",
   "pygments_lexer": "ipython3",
   "version": "3.12.2"
  }
 },
 "nbformat": 4,
 "nbformat_minor": 5
}
