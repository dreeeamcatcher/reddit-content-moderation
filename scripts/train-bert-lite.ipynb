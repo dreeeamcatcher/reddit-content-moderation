{
 "cells": [
  {
   "cell_type": "code",
   "execution_count": null,
   "id": "ef006e73",
   "metadata": {},
   "outputs": [],
   "source": [
    "from transformers import AutoTokenizer, AutoModelForSequenceClassification, TrainingArguments, Trainer\n",
    "from datasets import load_dataset\n",
    "\n",
    "import numpy as np\n",
    "import evaluate"
   ]
  },
  {
   "cell_type": "code",
   "execution_count": 3,
   "id": "4532cc5c",
   "metadata": {},
   "outputs": [
    {
     "name": "stderr",
     "output_type": "stream",
     "text": [
      "Some weights of BertForSequenceClassification were not initialized from the model checkpoint at boltuix/bert-lite and are newly initialized: ['bert.pooler.dense.bias', 'bert.pooler.dense.weight', 'classifier.bias', 'classifier.weight']\n",
      "You should probably TRAIN this model on a down-stream task to be able to use it for predictions and inference.\n"
     ]
    }
   ],
   "source": [
    "# Load model directly\n",
    "model_name = \"boltuix/bert-lite\"\n",
    "tokenizer = AutoTokenizer.from_pretrained(model_name)\n",
    "model = AutoModelForSequenceClassification.from_pretrained(model_name)\n",
    "\n",
    "# Load dataset\n",
    "dataset_name = 'ucberkeley-dlab/measuring-hate-speech'\n",
    "dataset = load_dataset(dataset_name, split='train')"
   ]
  },
  {
   "cell_type": "code",
   "execution_count": 4,
   "id": "6c3b68d4",
   "metadata": {},
   "outputs": [
    {
     "data": {
      "text/plain": [
       "(135556, 131)"
      ]
     },
     "execution_count": 4,
     "metadata": {},
     "output_type": "execute_result"
    }
   ],
   "source": [
    "# Check the shape of the dataset\n",
    "dataset.shape"
   ]
  },
  {
   "cell_type": "code",
   "execution_count": null,
   "id": "58ee5ac7",
   "metadata": {},
   "outputs": [],
   "source": [
    "# Create a custom dataset from existing dataset. \n",
    "# Use 'text' as the input and encode 'hate_speech_score' as the label- if 'hate_speech_score' is > 0.5, it is considered hate speech, so encode it as 1, else 0.\n",
    "# This classification is taken from the dataset's description:\n",
    "# hate_speech_score - continuous hate speech measure, where higher = more hateful and lower = less hateful. > 0.5 is approximately hate speech, < -1 is counter or supportive speech, and -1 to +0.5 is neutral or ambiguous.\n",
    "def encode_labels(example):\n",
    "    example['label'] = 1 if example['hate_speech_score'] > 0.5 else 0\n",
    "    return example\n",
    "\n",
    "encoded_dataset = dataset.map(encode_labels)\n",
    "encoded_dataset = encoded_dataset.remove_columns(['hate_speech_score'])"
   ]
  },
  {
   "cell_type": "code",
   "execution_count": 6,
   "id": "f957ed5f",
   "metadata": {},
   "outputs": [],
   "source": [
    "# Select only subset of the dataset for training and testing as there are too many examples in the dataset.\n",
    "subset = encoded_dataset.train_test_split(test_size=0.2)['test']\n",
    "\n",
    "# Split the dataset into train and test sets\n",
    "train_test_split = subset.train_test_split(test_size=0.2, seed=42)\n",
    "\n",
    "train_dataset = train_test_split['train']\n",
    "test_dataset = train_test_split['test']"
   ]
  },
  {
   "cell_type": "code",
   "execution_count": 7,
   "id": "0c59ce62",
   "metadata": {},
   "outputs": [
    {
     "name": "stderr",
     "output_type": "stream",
     "text": [
      "Map: 100%|██████████| 21689/21689 [00:08<00:00, 2514.23 examples/s]\n",
      "Map: 100%|██████████| 5423/5423 [00:01<00:00, 2769.43 examples/s]\n"
     ]
    }
   ],
   "source": [
    "# Tokenize the dataset\n",
    "def tokenize_function(examples):\n",
    "    return tokenizer(examples['text'])\n",
    "\n",
    "tokenized_train_dataset = train_dataset.map(tokenize_function, batched=True)\n",
    "tokenized_test_dataset = test_dataset.map(tokenize_function, batched=True)\n",
    "\n",
    "# Remove the original text column and set the format for PyTorch\n",
    "tokenized_train_dataset = tokenized_train_dataset.remove_columns(['text'])\n",
    "tokenized_test_dataset = tokenized_test_dataset.remove_columns(['text'])\n",
    "\n",
    "tokenized_train_dataset.set_format('torch')\n",
    "tokenized_test_dataset.set_format('torch')\n",
    "\n",
    "# Rename the label column to 'labels' for compatibility with Trainer\n",
    "tokenized_train_dataset = tokenized_train_dataset.rename_column('label', 'labels')\n",
    "tokenized_test_dataset = tokenized_test_dataset.rename_column('label', 'labels')"
   ]
  },
  {
   "cell_type": "code",
   "execution_count": 8,
   "id": "f8995f39",
   "metadata": {},
   "outputs": [],
   "source": [
    "# Define training arguments\n",
    "training_args = TrainingArguments(\n",
    "    output_dir='./fine-tuned-hatebert',\n",
    "    learning_rate=2e-5,\n",
    "    per_device_train_batch_size=16,\n",
    "    per_device_eval_batch_size=16,\n",
    "    num_train_epochs=5,\n",
    "    weight_decay=0.01,\n",
    "    eval_strategy='epoch',\n",
    "    save_strategy=\"epoch\",\n",
    "    load_best_model_at_end=True,\n",
    "    bf16=True,\n",
    "    fp16=False,\n",
    ")"
   ]
  },
  {
   "cell_type": "code",
   "execution_count": 9,
   "id": "facee1ab",
   "metadata": {},
   "outputs": [],
   "source": [
    "# Define evaluation metrics\n",
    "accuracy_metric = evaluate.load(\"accuracy\")\n",
    "f1_metric = evaluate.load(\"f1\")\n",
    "\n",
    "def compute_metrics(eval_pred):\n",
    "    logits, labels = eval_pred\n",
    "    predictions = np.argmax(logits, axis=1)\n",
    "\n",
    "    acc = accuracy_metric.compute(predictions=predictions, references=labels)\n",
    "    f1 = f1_metric.compute(predictions=predictions, references=labels, average='weighted')\n",
    "    \n",
    "    return {\n",
    "        'accuracy': acc['accuracy'],\n",
    "        'f1': f1['f1'],\n",
    "    }"
   ]
  },
  {
   "cell_type": "code",
   "execution_count": 10,
   "id": "f53ad93c",
   "metadata": {},
   "outputs": [
    {
     "name": "stderr",
     "output_type": "stream",
     "text": [
      "/var/folders/w8/1z9zcf6n61b4xlr7r18jckm40000gn/T/ipykernel_27315/1608242298.py:2: FutureWarning: `tokenizer` is deprecated and will be removed in version 5.0.0 for `Trainer.__init__`. Use `processing_class` instead.\n",
      "  trainer = Trainer(\n"
     ]
    }
   ],
   "source": [
    "# Initialize Trainer\n",
    "trainer = Trainer(\n",
    "    model=model,\n",
    "    args=training_args,\n",
    "    train_dataset=tokenized_train_dataset,\n",
    "    eval_dataset=tokenized_test_dataset,\n",
    "    compute_metrics=compute_metrics,\n",
    "    tokenizer=tokenizer,\n",
    ")"
   ]
  },
  {
   "cell_type": "code",
   "execution_count": 11,
   "id": "4ccb3e63",
   "metadata": {},
   "outputs": [
    {
     "data": {
      "text/html": [
       "\n",
       "    <div>\n",
       "      \n",
       "      <progress value='6780' max='6780' style='width:300px; height:20px; vertical-align: middle;'></progress>\n",
       "      [6780/6780 07:21, Epoch 5/5]\n",
       "    </div>\n",
       "    <table border=\"1\" class=\"dataframe\">\n",
       "  <thead>\n",
       " <tr style=\"text-align: left;\">\n",
       "      <th>Epoch</th>\n",
       "      <th>Training Loss</th>\n",
       "      <th>Validation Loss</th>\n",
       "      <th>Accuracy</th>\n",
       "      <th>F1</th>\n",
       "    </tr>\n",
       "  </thead>\n",
       "  <tbody>\n",
       "    <tr>\n",
       "      <td>1</td>\n",
       "      <td>0.329500</td>\n",
       "      <td>0.295891</td>\n",
       "      <td>0.875161</td>\n",
       "      <td>0.873964</td>\n",
       "    </tr>\n",
       "    <tr>\n",
       "      <td>2</td>\n",
       "      <td>0.271900</td>\n",
       "      <td>0.278928</td>\n",
       "      <td>0.883644</td>\n",
       "      <td>0.882222</td>\n",
       "    </tr>\n",
       "    <tr>\n",
       "      <td>3</td>\n",
       "      <td>0.240000</td>\n",
       "      <td>0.279034</td>\n",
       "      <td>0.886963</td>\n",
       "      <td>0.886733</td>\n",
       "    </tr>\n",
       "    <tr>\n",
       "      <td>4</td>\n",
       "      <td>0.214300</td>\n",
       "      <td>0.284807</td>\n",
       "      <td>0.888807</td>\n",
       "      <td>0.888907</td>\n",
       "    </tr>\n",
       "    <tr>\n",
       "      <td>5</td>\n",
       "      <td>0.193700</td>\n",
       "      <td>0.291499</td>\n",
       "      <td>0.889176</td>\n",
       "      <td>0.889182</td>\n",
       "    </tr>\n",
       "  </tbody>\n",
       "</table><p>"
      ],
      "text/plain": [
       "<IPython.core.display.HTML object>"
      ]
     },
     "metadata": {},
     "output_type": "display_data"
    },
    {
     "data": {
      "text/plain": [
       "TrainOutput(global_step=6780, training_loss=0.25984863067446906, metrics={'train_runtime': 442.355, 'train_samples_per_second': 245.154, 'train_steps_per_second': 15.327, 'total_flos': 211160058154776.0, 'train_loss': 0.25984863067446906, 'epoch': 5.0})"
      ]
     },
     "execution_count": 11,
     "metadata": {},
     "output_type": "execute_result"
    }
   ],
   "source": [
    "# Train the model\n",
    "trainer.train()"
   ]
  },
  {
   "cell_type": "code",
   "execution_count": null,
   "id": "0b96b3fa",
   "metadata": {},
   "outputs": [
    {
     "data": {
      "text/plain": [
       "('./initial-model/tokenizer_config.json',\n",
       " './initial-model/special_tokens_map.json',\n",
       " './initial-model/vocab.txt',\n",
       " './initial-model/added_tokens.json',\n",
       " './initial-model/tokenizer.json')"
      ]
     },
     "execution_count": 13,
     "metadata": {},
     "output_type": "execute_result"
    }
   ],
   "source": [
    "# Save the model\n",
    "save_directory = \"./initial-model\"\n",
    "trainer.save_model(save_directory)\n",
    "tokenizer.save_pretrained(save_directory)\n",
    "\n",
    "# Directory was moved to ../data/initial-model"
   ]
  },
  {
   "cell_type": "code",
   "execution_count": null,
   "id": "479f9891",
   "metadata": {},
   "outputs": [],
   "source": []
  }
 ],
 "metadata": {
  "kernelspec": {
   "display_name": "mlops_py312",
   "language": "python",
   "name": "python3"
  },
  "language_info": {
   "codemirror_mode": {
    "name": "ipython",
    "version": 3
   },
   "file_extension": ".py",
   "mimetype": "text/x-python",
   "name": "python",
   "nbconvert_exporter": "python",
   "pygments_lexer": "ipython3",
   "version": "3.12.2"
  }
 },
 "nbformat": 4,
 "nbformat_minor": 5
}
